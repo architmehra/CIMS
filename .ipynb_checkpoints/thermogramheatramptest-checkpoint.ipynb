{
 "cells": [
  {
   "cell_type": "code",
   "execution_count": 2,
   "metadata": {
    "collapsed": false
   },
   "outputs": [],
   "source": [
    "import numpy as np \n",
    "import pandas as pd\n",
    "import matplotlib.pyplot as plt "
   ]
  },
  {
   "cell_type": "code",
   "execution_count": 3,
   "metadata": {
    "collapsed": false
   },
   "outputs": [],
   "source": [
    "figaero_df = pd.read_csv (\"/media/sf_Ubuntu/share/CIMS/heatramptest.csv\",index_col=0)"
   ]
  },
  {
   "cell_type": "code",
   "execution_count": 4,
   "metadata": {
    "collapsed": true
   },
   "outputs": [],
   "source": [
    "#figaero_df = figaero_df.transpose()"
   ]
  },
  {
   "cell_type": "code",
   "execution_count": 5,
   "metadata": {
    "collapsed": true
   },
   "outputs": [],
   "source": [
    "figaero_df = figaero_df.astype('float64')"
   ]
  },
  {
   "cell_type": "code",
   "execution_count": 6,
   "metadata": {
    "collapsed": false,
    "scrolled": true
   },
   "outputs": [
    {
     "name": "stdout",
     "output_type": "stream",
     "text": [
      "                  steptype  heatread\n",
      "utc                                 \n",
      "29/08/2017 12:47       2.0      24.0\n",
      "29/08/2017 12:47       2.0      24.0\n",
      "29/08/2017 12:47       2.0      24.2\n",
      "29/08/2017 12:47       2.0      24.2\n",
      "29/08/2017 12:47       2.0      24.6\n",
      "29/08/2017 12:47       2.0      24.6\n",
      "29/08/2017 12:47       2.0      24.9\n",
      "29/08/2017 12:47       2.0      24.9\n",
      "29/08/2017 12:48       2.0      25.5\n",
      "29/08/2017 12:48       2.0      25.5\n",
      "29/08/2017 12:48       2.0      27.2\n",
      "29/08/2017 12:48       2.0      27.2\n",
      "29/08/2017 12:48       2.0      27.6\n",
      "29/08/2017 12:48       2.0      27.6\n",
      "29/08/2017 12:48       2.0      29.6\n",
      "29/08/2017 12:48       2.0      29.6\n",
      "29/08/2017 12:48       2.0      31.1\n",
      "29/08/2017 12:48       2.0      31.1\n",
      "29/08/2017 12:48       2.0      32.5\n",
      "29/08/2017 12:48       2.0      32.5\n",
      "29/08/2017 12:48       2.0      34.6\n",
      "29/08/2017 12:48       2.0      34.6\n",
      "29/08/2017 12:48       2.0      34.6\n",
      "29/08/2017 12:48       2.0      34.6\n",
      "29/08/2017 12:48       2.0      38.6\n",
      "29/08/2017 12:48       2.0      38.6\n",
      "29/08/2017 12:48       2.0      41.0\n",
      "29/08/2017 12:48       2.0      41.0\n",
      "29/08/2017 12:48       2.0      42.6\n",
      "29/08/2017 12:48       2.0      42.6\n",
      "...                    ...       ...\n",
      "29/08/2017 14:21       2.0     167.3\n",
      "29/08/2017 14:21       2.0     167.3\n",
      "29/08/2017 14:21       2.0     167.3\n",
      "29/08/2017 14:21       2.0     167.3\n",
      "29/08/2017 14:21       2.0     167.3\n",
      "29/08/2017 14:21       2.0     167.3\n",
      "29/08/2017 14:21       2.0     167.3\n",
      "29/08/2017 14:21       2.0     167.3\n",
      "29/08/2017 14:21       2.0     167.3\n",
      "29/08/2017 14:21       2.0     167.4\n",
      "29/08/2017 14:21       2.0     167.4\n",
      "29/08/2017 14:21       2.0     167.5\n",
      "29/08/2017 14:21       2.0     167.5\n",
      "29/08/2017 14:21       2.0     167.5\n",
      "29/08/2017 14:21       2.0     167.5\n",
      "29/08/2017 14:21       2.0     167.6\n",
      "29/08/2017 14:21       2.0     167.6\n",
      "29/08/2017 14:21       2.0     167.6\n",
      "29/08/2017 14:21       2.0     167.6\n",
      "29/08/2017 14:21       2.0     167.6\n",
      "29/08/2017 14:21       2.0     167.6\n",
      "29/08/2017 14:21       2.0     167.7\n",
      "29/08/2017 14:21       2.0     167.7\n",
      "29/08/2017 14:21       2.0     167.6\n",
      "29/08/2017 14:21       2.0     167.6\n",
      "29/08/2017 14:21       2.0     167.7\n",
      "29/08/2017 14:21       2.0     167.7\n",
      "29/08/2017 14:21       2.0     167.9\n",
      "29/08/2017 14:22       2.0     167.9\n",
      "29/08/2017 14:22       2.0     168.1\n",
      "\n",
      "[5650 rows x 2 columns]\n"
     ]
    }
   ],
   "source": [
    "print (figaero_df)"
   ]
  },
  {
   "cell_type": "code",
   "execution_count": 14,
   "metadata": {
    "collapsed": false
   },
   "outputs": [],
   "source": [
    "#figaero_df.groupby(\n",
    "        #['steptype',figaero_df.steptype.ne(figaero_df.steptype.shift()).cumsum().rename('grp')]\n",
    "#).temp.describe().loc[2]"
   ]
  },
  {
   "cell_type": "code",
   "execution_count": 10,
   "metadata": {
    "collapsed": false
   },
   "outputs": [
    {
     "data": {
      "image/png": "[encoded data removed]",
      "text/plain": [
       "<matplotlib.figure.Figure at 0x7ff41b944080>"
      ]
     },
     "metadata": {},
     "output_type": "display_data"
    }
   ],
   "source": [
    "figaero_df.groupby(\n",
    "        ['steptype',figaero_df.steptype.ne(figaero_df.steptype.shift()).cumsum().rename('grp')]\n",
    ").heatread.quantile(0.5).loc[2].plot(linestyle=\"\", marker= \"o\")\n",
    "plt.show()"
   ]
  },
  {
   "cell_type": "code",
   "execution_count": 12,
   "metadata": {
    "collapsed": false
   },
   "outputs": [
    {
     "data": {
      "image/png": "[encoded data removed]",
      "text/plain": [
       "<matplotlib.figure.Figure at 0x7f04b185b748>"
      ]
     },
     "metadata": {},
     "output_type": "display_data"
    }
   ],
   "source": [
    "figaero_df.groupby(\n",
    "        ['steptype',figaero_df.steptype.ne(figaero_df.steptype.shift()).cumsum().rename('grp')]\n",
    ").heatread.min().loc[2].plot()\n",
    "plt.show()"
   ]
  },
  {
   "cell_type": "code",
   "execution_count": 13,
   "metadata": {
    "collapsed": false
   },
   "outputs": [
    {
     "data": {
      "image/png": "[encoded data removed]",
      "text/plain": [
       "<matplotlib.figure.Figure at 0x7f04af1cd940>"
      ]
     },
     "metadata": {},
     "output_type": "display_data"
    }
   ],
   "source": [
    "figaero_df.groupby(\n",
    "        ['steptype',figaero_df.steptype.ne(figaero_df.steptype.shift()).cumsum().rename('grp')]\n",
    ").heatread.mean().loc[2].plot()\n",
    "plt.show()"
   ]
  },
  {
   "cell_type": "code",
   "execution_count": null,
   "metadata": {
    "collapsed": true
   },
   "outputs": [],
   "source": []
  },
  {
   "cell_type": "code",
   "execution_count": null,
   "metadata": {
    "collapsed": true
   },
   "outputs": [],
   "source": []
  }
 ],
 "metadata": {
  "kernelspec": {
   "display_name": "Python 3",
   "language": "python",
   "name": "python3"
  },
  "language_info": {
   "codemirror_mode": {
    "name": "ipython",
    "version": 3
   },
   "file_extension": ".py",
   "mimetype": "text/x-python",
   "name": "python",
   "nbconvert_exporter": "python",
   "pygments_lexer": "ipython3",
   "version": "3.6.0"
  }
 },
 "nbformat": 4,
 "nbformat_minor": 2
}
