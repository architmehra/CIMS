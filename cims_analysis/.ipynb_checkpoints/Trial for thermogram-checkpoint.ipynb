{
 "cells": [
  {
   "cell_type": "code",
   "execution_count": 36,
   "metadata": {
    "collapsed": true
   },
   "outputs": [],
   "source": [
    "import numpy as np \n",
    "import csv as csv\n",
    "import pandas as pd\n",
    "import matplotlib.pyplot as plt "
   ]
  },
  {
   "cell_type": "code",
   "execution_count": 46,
   "metadata": {
    "collapsed": false
   },
   "outputs": [],
   "source": [
    "array = np.loadtxt(open(\"/home/archit/share/share/testthermogram.csv\",\"r\"),delimiter=\",\", skiprows=1)\n"
   ]
  },
  {
   "cell_type": "code",
   "execution_count": 47,
   "metadata": {
    "collapsed": false
   },
   "outputs": [
    {
     "name": "stdout",
     "output_type": "stream",
     "text": [
      "[[  1.  25.]\n",
      " [  1.  25.]\n",
      " [  1.  25.]\n",
      " [  2.  40.]\n",
      " [  2.  60.]\n",
      " [  2.  80.]\n",
      " [  3.  80.]\n",
      " [  3.  80.]\n",
      " [  3.  80.]\n",
      " [  4.  60.]\n",
      " [  4.  50.]\n",
      " [  4.  40.]\n",
      " [  1.  25.]\n",
      " [  1.  25.]\n",
      " [  1.  25.]\n",
      " [  1.  25.]\n",
      " [  2.  40.]\n",
      " [  2.  60.]\n",
      " [  2.  70.]\n",
      " [  2.  80.]\n",
      " [  3.  80.]\n",
      " [  3.  80.]\n",
      " [  3.  80.]\n",
      " [  3.  80.]\n",
      " [  4.  60.]\n",
      " [  4.  50.]\n",
      " [  4.  30.]\n",
      " [  4.  25.]\n",
      " [  1.  25.]\n",
      " [  1.  25.]\n",
      " [  1.  25.]\n",
      " [  1.  25.]\n",
      " [  1.  25.]\n",
      " [  1.  25.]\n",
      " [  2.  40.]\n",
      " [  2.  50.]\n",
      " [  2.  60.]\n",
      " [  2.  80.]\n",
      " [  3.  80.]\n",
      " [  3.  80.]\n",
      " [  3.  80.]\n",
      " [  3.  80.]\n",
      " [  4.  60.]\n",
      " [  4.  50.]\n",
      " [  4.  40.]\n",
      " [  4.  30.]\n",
      " [  4.  25.]]\n"
     ]
    }
   ],
   "source": [
    "print (array)"
   ]
  },
  {
   "cell_type": "code",
   "execution_count": 57,
   "metadata": {
    "collapsed": false
   },
   "outputs": [],
   "source": [
    "for a in range(len(array)):\n",
    "    if a ==1 and [a-x] == 4:\n",
    "        print (a)"
   ]
  },
  {
   "cell_type": "code",
   "execution_count": null,
   "metadata": {
    "collapsed": true
   },
   "outputs": [],
   "source": []
  }
 ],
 "metadata": {
  "kernelspec": {
   "display_name": "Python 3",
   "language": "python",
   "name": "python3"
  },
  "language_info": {
   "codemirror_mode": {
    "name": "ipython",
    "version": 3
   },
   "file_extension": ".py",
   "mimetype": "text/x-python",
   "name": "python",
   "nbconvert_exporter": "python",
   "pygments_lexer": "ipython3",
   "version": "3.6.0"
  }
 },
 "nbformat": 4,
 "nbformat_minor": 2
}
